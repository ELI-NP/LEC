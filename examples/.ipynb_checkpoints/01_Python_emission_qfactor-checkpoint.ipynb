{
 "cells": [
  {
   "cell_type": "code",
   "execution_count": null,
   "metadata": {},
   "outputs": [],
   "source": [
    "%matplotlib notebook\n",
    "import numpy as np\n",
    "import matplotlib.pyplot as plt\n",
    "import matplotlib as mpl\n",
    "import pathlib\n",
    "import os\n",
    "import pwd\n",
    "import figformat\n",
    "fig_width,fig_height,params=figformat.figure_format(fig_width=3.4,fig_height=3.4)\n",
    "mpl.rcParams.update(params)\n",
    "#mpl.rcParams.keys()\n",
    "#help(figformat)\n",
    "def get_username():\n",
    "    return pwd.getpwuid(os.getuid())[0]\n",
    "user = get_username()\n",
    "\n",
    "run_dir  = pathlib.Path(rf\"/Users/{user}/GitHub/LEC/examples/\") #path to TABLES\n",
    "\n",
    "print(f\"run_dir: {run_dir}\")"
   ]
  },
  {
   "cell_type": "markdown",
   "metadata": {},
   "source": [
    "### The function $q(\\chi_e)$ for $\\chi_e\\ll 1$\n",
    "\\begin{equation}\n",
    "    q(\\chi_e\\ll 1)\\approx 1-\\frac{55}{16}\\sqrt{3}\\chi + 48\\chi^2 \\nonumber\n",
    "\\end{equation}"
   ]
  },
  {
   "cell_type": "code",
   "execution_count": null,
   "metadata": {},
   "outputs": [],
   "source": [
    "def func(x):\n",
    "    f=1-(55/16)*np.sqrt(3)*x + 48*x**2\n",
    "    return f\n",
    "x=np.arange(0.001,10,0.001)"
   ]
  },
  {
   "cell_type": "markdown",
   "metadata": {},
   "source": [
    "### The function $q(\\chi_e)$ for $\\chi_e\\gg 1$\n",
    "\\begin{equation}\n",
    "    q(\\chi_e\\gg 1)\\approx\\frac{48}{243}\\Gamma(\\frac{2}{3})\\chi^{-4/3} \n",
    "    \\left[ 1 -\\frac{81}{16\\Gamma(2/3)}(3\\chi)^{-2/3} \\right] \\nonumber\n",
    "\\end{equation}"
   ]
  },
  {
   "cell_type": "code",
   "execution_count": null,
   "metadata": {},
   "outputs": [],
   "source": [
    "def func2(y):\n",
    "    f2=(48/243)*1.354*2.08*y**(-4/3)*(1-(81/16)*0.73855*(3*y)**(-2/3))\n",
    "    return f2\n",
    "y=np.arange(0.1,100,0.001)"
   ]
  },
  {
   "cell_type": "markdown",
   "metadata": {},
   "source": [
    "### Extract $\\chi_e$, $P_\\mathrm{Q}$, $P_\\mathrm{C}$, and $q(\\chi_e)$"
   ]
  },
  {
   "cell_type": "code",
   "execution_count": null,
   "metadata": {},
   "outputs": [],
   "source": [
    "Xi,Prad,Pc,g = np.loadtxt('P_rad.dat',unpack=True,usecols=[0,1,2,3],dtype=np.float)"
   ]
  },
  {
   "cell_type": "code",
   "execution_count": null,
   "metadata": {},
   "outputs": [],
   "source": [
    "fig, ax = plt.subplots()\n",
    "ax.plot(x,func(x), \"b\", ls='--')\n",
    "ax.plot(y,func2(y),\"g\", ls='-.')\n",
    "\n",
    "ax.plot(Xi, g, color='black')\n",
    "ax.set_xlim(0.001,100)\n",
    "ax.set_ylim(0.001,3)\n",
    "ax.set_yscale('log')\n",
    "ax.set_xscale('log')\n",
    "ax.set_xlabel(\"$\\chi_e$\")\n",
    "ax.set_ylabel(\"$q(\\chi_e)$\")\n",
    "ax.minorticks_on()\n",
    "\n",
    "ax2 = ax.twinx()\n",
    "ax2.plot(Xi,Prad,'-y',color='red',linewidth=2,label='$P_Q$')\n",
    "ax2.plot(Xi,Pc,'--',color='red',linewidth=2,label='$P_Q$')\n",
    "ax2.set_ylim(1,1e7)\n",
    "ax2.set_yscale('log')\n",
    "ax2.set_ylabel(\"$P_\\mathrm{rad} (W)$\",color='red')\n",
    "ax2.minorticks_on()\n",
    "ax2.tick_params(axis='y',labelcolor='red')\n",
    "ax2.tick_params(which='major',color='red')\n",
    "ax2.tick_params(which='minor',color='red')\n",
    "ax2.spines['right'].set_color('red')\n",
    "\n",
    "eq1 = r\"\\begin{eqnarray*}\" + \\\n",
    "      r\"g(\\chi_e\\ll 1)&\\approx&1-\\frac{55}{16}\\sqrt{3}\\chi \\\\&+& 48\\chi^2\" + \\\n",
    "      r\"\\end{eqnarray*}\"\n",
    "#ax.text(0.35, 0.4, eq1, {'color': 'b', 'fontsize': 15}, va=\"top\", ha=\"right\")\n",
    "eq2 = r\"\\begin{eqnarray*}\" + \\\n",
    "      r\"&&g(\\chi_e\\gg 1)\\approx\\frac{48}{243}\\Gamma(\\frac{2}{3})\\chi^{-4/3} \\\\\" + \\\n",
    "      r\"&& \\times \\{ 1 -\\frac{81}{16\\Gamma(2/3)}(3\\chi)^{-2/3} \\}\" + \\\n",
    "      r\"\\end{eqnarray*}\"\n",
    "#ax.text(1, 0.01, eq2, {'color': 'g', 'fontsize': 15}, va=\"top\", ha=\"right\")\n",
    "fig = plt.gcf()\n",
    "fig.set_size_inches(fig_width, fig_width/1.618)\n",
    "fig.tight_layout()\n",
    "plt.show()"
   ]
  },
  {
   "cell_type": "code",
   "execution_count": 7,
   "metadata": {},
   "outputs": [],
   "source": [
    "fig.savefig(rf\"/Users/StevE/GitHub/LEC/docs/source/figures/qchi.png\",format='png',dpi=600,transparent=True, bbox_inches='tight')"
   ]
  },
  {
   "cell_type": "code",
   "execution_count": null,
   "metadata": {},
   "outputs": [],
   "source": []
  }
 ],
 "metadata": {
  "kernelspec": {
   "display_name": "Python 3",
   "language": "python",
   "name": "python3"
  },
  "language_info": {
   "codemirror_mode": {
    "name": "ipython",
    "version": 3
   },
   "file_extension": ".py",
   "mimetype": "text/x-python",
   "name": "python",
   "nbconvert_exporter": "python",
   "pygments_lexer": "ipython3",
   "version": "3.7.6"
  }
 },
 "nbformat": 4,
 "nbformat_minor": 2
}
