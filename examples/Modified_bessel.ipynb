{
 "cells": [
  {
   "cell_type": "code",
   "execution_count": 1,
   "metadata": {},
   "outputs": [],
   "source": [
    "%matplotlib inline\n",
    "import numpy as np\n",
    "import matplotlib.pyplot as plt\n",
    "import matplotlib as mpl\n",
    "from scipy import special\n",
    "import scipy.constants as const\n",
    "import scipy.integrate as integrate\n",
    "from scipy.integrate import quad"
   ]
  },
  {
   "cell_type": "markdown",
   "metadata": {},
   "source": [
    "$$dW_\\mathrm{QED} = \\frac{\\alpha mc^2}{\\sqrt{3}\\pi\\hbar\\gamma} \\left[ \\left(1-\\xi+ \\frac{1}{1-\\xi} \\right)K_{2/3}(\\delta) - \\int_\\delta^\\infty K_{1/3}(s)ds  \\right] d\\xi$$\n",
    "$$dP_\\mathrm{QED} = \\frac{\\hbar\\omega}{mc^2} dW_\\mathrm{QED}=\\frac{\\alpha mc^2}{\\sqrt{3}\\pi\\hbar} \\left[ \\left(1-\\xi+ \\frac{1}{1-\\xi} \\right)K_{2/3}(\\delta) - \\int_\\delta^\\infty K_{1/3}(s)ds  \\right] \\xi d\\xi$$\n",
    "$$\\delta=\\frac{2\\xi}{3\\chi(1-\\xi)};\\,\\xi=\\frac{\\hbar\\omega}{\\gamma mc^2}$$\n",
    "\n",
    "$$ P_\\mathrm{QED} = \\frac{\\alpha mc^2}{\\sqrt{3}\\pi\\hbar}  \\int_0^1 f_e(\\xi,\\chi)\\xi d\\xi$$\n",
    "\n",
    "$$ f_e(\\xi,\\chi) = \\left(1-\\xi+ \\frac{1}{1-\\xi} \\right)K_{2/3}(\\delta) - \\int_\\delta^\\infty K_{1/3}(s)ds $$\n"
   ]
  },
  {
   "cell_type": "markdown",
   "metadata": {},
   "source": [
    "The coefficient is $\\frac{\\alpha mc^2}{\\sqrt{3}\\pi\\hbar}$; $\\mathrm{diffQ} = f_e(\\xi,\\chi)\\xi$; $\\mathrm{diffR} = f_e(\\xi,\\chi)$"
   ]
  },
  {
   "cell_type": "code",
   "execution_count": 2,
   "metadata": {},
   "outputs": [
    {
     "name": "stdout",
     "output_type": "stream",
     "text": [
      "1.041139850816157e+18\n"
     ]
    }
   ],
   "source": [
    "coefficient = (const.fine_structure)*(const.m_e*const.c**2)/(np.sqrt(3)*const.pi*const.hbar)\n",
    "print(coefficient)"
   ]
  },
  {
   "cell_type": "code",
   "execution_count": 3,
   "metadata": {},
   "outputs": [],
   "source": [
    "def intBessel13(ss):\n",
    "    return integrate.quad(lambda ss: special.kv(1/3, ss), ss, np.inf)[0]\n",
    "\n",
    "def dPQED(Xi,Xe):\n",
    "    ss = (2/3)*Xi/((1-Xi)*Xe)\n",
    "    ff = special.kv(2/3, ss)\n",
    "    hh = intBessel13(ss)\n",
    "    fcem = Xi*( ((1 - Xi) + 1/(1-Xi))*ff - hh )  # diffQ(Xi,xe)\n",
    "    dcem = ( ((1 - Xi) + 1/(1-Xi))*ff - hh )     # diffR(Xi,xe)\n",
    "    return fcem, dcem"
   ]
  },
  {
   "cell_type": "code",
   "execution_count": 4,
   "metadata": {},
   "outputs": [],
   "source": [
    "diffQED = np.zeros([3000,2])\n",
    "XiQED = np.zeros(3000)\n",
    "for ii in range(1,3000,1):\n",
    "    Xi = (ii-0.5)/3000\n",
    "    XiQED[ii] = Xi\n",
    "    diffQED[ii,0] = dPQED(Xi,1.93)[0]            # test diffQ(Xi,xe) at Xe=1.93\n",
    "    diffQED[ii,1] = dPQED(Xi,1.93)[1]            # test diffR(Xi,xe) at Xe=1.93"
   ]
  },
  {
   "cell_type": "code",
   "execution_count": 5,
   "metadata": {},
   "outputs": [
    {
     "name": "stderr",
     "output_type": "stream",
     "text": [
      "<ipython-input-5-060b011f4a54>:23: UserWarning: This figure includes Axes that are not compatible with tight_layout, so results might be incorrect.\n",
      "  fig.tight_layout()\n"
     ]
    },
    {
     "data": {
      "image/png": "[encoded data removed]",
      "text/plain": [
       "<Figure size 489.6x151.298 with 2 Axes>"
      ]
     },
     "metadata": {
      "needs_background": "light"
     },
     "output_type": "display_data"
    }
   ],
   "source": [
    "fig, axs = plt.subplots(1,2,\n",
    "                       gridspec_kw={'wspace':0.5})\n",
    "\n",
    "(ax1, ax2) = axs\n",
    "fig.suptitle(r'$\\chi=1.93$')\n",
    "\n",
    "ax1.semilogy(XiQED[1:],diffQED[1:,0],color='black',ls='--')\n",
    "ax1.set(xlabel=r'$\\xi$', \n",
    "        ylabel=r'$dP_\\mathrm{QED}/d\\xi $ (Norm.)',\n",
    "        xlim=(0,1),\n",
    "        ylim=(1e-4,1e2),\n",
    "       )\n",
    "ax1.minorticks_on()\n",
    "\n",
    "ax2.semilogy(XiQED[1:],diffQED[1:,1],color='black',ls='--')\n",
    "ax2.set(xlabel=r'$\\xi$',\n",
    "        ylabel=r'$dW_\\mathrm{QED}/d\\xi $ (Norm.)',\n",
    "        xlim=(0,1),\n",
    "        ylim=(1e-3,1e4),\n",
    "       )\n",
    "ax2.minorticks_on()\n",
    "fig.set_size_inches(3.4*2,3.4/1.618)\n",
    "fig.tight_layout()\n",
    "plt.show()"
   ]
  },
  {
   "cell_type": "code",
   "execution_count": 6,
   "metadata": {},
   "outputs": [
    {
     "name": "stderr",
     "output_type": "stream",
     "text": [
      "<ipython-input-3-c40af26edcc6>:2: IntegrationWarning: The algorithm does not converge.  Roundoff error is detected\n",
      "  in the extrapolation table.  It is assumed that the requested tolerance\n",
      "  cannot be achieved, and that the returned result (if full_output = 1) is \n",
      "  the best which can be obtained.\n",
      "  return integrate.quad(lambda ss: special.kv(1/3, ss), ss, np.inf)[0]\n"
     ]
    }
   ],
   "source": [
    "EmaxV= 1000.0\n",
    "we0 =(np.log(EmaxV)-np.log(0.001))/199.0\n",
    "totalQED = np.zeros([200,2])\n",
    "XeQED = np.zeros(200)\n",
    "for jj in range(1,200,1): # Xe\n",
    "    Xe = np.exp(we0*(jj-1))*0.001\n",
    "    XeQED [jj] = Xe\n",
    "    totalQED[jj,0] = integrate.quad(lambda x: dPQED(x,Xe)[0], 0, 1)[0] # totalR(xe), put into array\n",
    "    totalQED[jj,1] = integrate.quad(lambda x: dPQED(x,Xe)[1], 0, 1)[0] # totalS(xe), put into array"
   ]
  },
  {
   "cell_type": "code",
   "execution_count": 7,
   "metadata": {
    "scrolled": true
   },
   "outputs": [
    {
     "name": "stderr",
     "output_type": "stream",
     "text": [
      "<ipython-input-7-3a3668aff039>:26: UserWarning: This figure includes Axes that are not compatible with tight_layout, so results might be incorrect.\n",
      "  fig.tight_layout()\n"
     ]
    },
    {
     "data": {
      "image/png": "[encoded data removed]",
      "text/plain": [
       "<Figure size 489.6x151.298 with 2 Axes>"
      ]
     },
     "metadata": {
      "needs_background": "light"
     },
     "output_type": "display_data"
    }
   ],
   "source": [
    "fig, axs = plt.subplots(1,2,\n",
    "                       gridspec_kw={'wspace':0.5})\n",
    "\n",
    "(ax1, ax2) = axs\n",
    "\n",
    "ax1.plot(XeQED,totalQED[:,0],color='black',ls='--')\n",
    "ax1.set(xlabel=r'$\\chi$')\n",
    "ax1.set(ylabel=r'$P_\\mathrm{QED}$ (Norm.)')\n",
    "ax1.set_yscale('log')\n",
    "ax1.set_xscale('log')\n",
    "ax1.set_xlim(xmin=1e-3,xmax=1e3)\n",
    "ax1.set_ylim(ymin=1e-5,ymax=1e3)\n",
    "ax1.minorticks_on()\n",
    "\n",
    "ax2.plot(XeQED,totalQED[:,1],color='black',ls='--')\n",
    "ax2.plot(XeQED,1.46*XeQED**(2/3)*5.44,label=r'$1.46\\chi^{2/3}$') # 5.44 = sqrt(3)*π\n",
    "ax2.set(xlabel=r'$\\chi$')\n",
    "ax2.set(ylabel=r'$W_\\mathrm{QED}$ (Norm.)')\n",
    "ax2.set_yscale('log')\n",
    "ax2.set_xscale('log')\n",
    "ax2.set_xlim(xmin=1e-3,xmax=1e3)\n",
    "ax2.set_ylim(ymin=1e-3,ymax=1e3)\n",
    "ax2.minorticks_on()\n",
    "ax2.legend()\n",
    "fig.set_size_inches(3.4*2,3.4/1.618)\n",
    "fig.tight_layout()\n",
    "plt.show()"
   ]
  },
  {
   "cell_type": "markdown",
   "metadata": {},
   "source": [
    "# Classical limit, $\\hbar\\rightarrow 0$\n",
    "$$dW_\\mathrm{cl} = \\frac{\\alpha mc^2}{\\sqrt{3}\\hbar\\pi\\gamma} \\left[   2K_{2/3}(\\delta) - \\int_\\delta^\\infty K_{1/3}(s)ds  \\right] d\\xi $$\n",
    "\n",
    "$$dP_\\mathrm{cl}  = \\frac{\\hbar\\omega}{mc^2} dW_\\mathrm{cl}= \\frac{\\alpha mc^2}{\\sqrt{3}\\pi\\hbar}  \\left[   2K_{2/3}(\\delta) - \\int_\\delta^\\infty K_{1/3}(s)ds  \\right] \\xi d\\xi$$\n",
    "$$\\delta=\\frac{2\\xi}{3\\chi}$$\n",
    "\n",
    "$$ P_\\mathrm{cl} = \\frac{\\alpha mc^2}{\\sqrt{3}\\pi\\hbar}  \\int_0^\\infty f_e(\\xi,\\chi)\\xi d\\xi$$\n",
    "\n",
    "$$ f_e(\\xi,\\chi) = 2K_{2/3}(\\delta) - \\int_\\delta^\\infty K_{1/3}(s)ds = \\int_\\delta^\\infty K_{5/3}(s)ds $$"
   ]
  },
  {
   "cell_type": "code",
   "execution_count": 8,
   "metadata": {},
   "outputs": [],
   "source": [
    "def intBessel13(ss):\n",
    "    return integrate.quad(lambda ss: special.kv(1/3, ss), ss, np.inf)[0]\n",
    "\n",
    "def dPcl(Xi,Xe):\n",
    "    ss = (2/3)*Xi/Xe\n",
    "    ff = special.kv(2/3, ss)\n",
    "    hh = intBessel13(ss)\n",
    "    fcem = Xi*(2*ff-hh) \n",
    "    dcem = (2*ff-hh) \n",
    "    return fcem, dcem               # diffC(Xi,Xe), diffD(Xi,Xe) in classical limit\n",
    "\n",
    "diffCl = np.zeros([6000,2])\n",
    "Xcl= np.zeros(6000)\n",
    "for ii in range(1,6000,1):\n",
    "    Xi = (ii-0.5)/3000\n",
    "    Xcl[ii] = Xi\n",
    "    diffCl[ii,0] = dPcl(Xi,1.0e-3)[0]    # test diffC(Xi,Xe) at Xe=0.001\n",
    "    diffCl[ii,1] = dPcl(Xi,1.0e-3)[1]    # test diffD(Xi,Xe) at Xe=0.001"
   ]
  },
  {
   "cell_type": "code",
   "execution_count": 9,
   "metadata": {},
   "outputs": [
    {
     "name": "stderr",
     "output_type": "stream",
     "text": [
      "<ipython-input-9-d329fdbdfd8f>:22: UserWarning: This figure includes Axes that are not compatible with tight_layout, so results might be incorrect.\n",
      "  fig.tight_layout()\n"
     ]
    },
    {
     "data": {
      "image/png": "[encoded data removed]",
      "text/plain": [
       "<Figure size 489.6x151.298 with 2 Axes>"
      ]
     },
     "metadata": {
      "needs_background": "light"
     },
     "output_type": "display_data"
    }
   ],
   "source": [
    "fig, axs = plt.subplots(1,2,\n",
    "                       gridspec_kw={'wspace':0.5})\n",
    "\n",
    "(ax1, ax2) = axs\n",
    "fig.suptitle(r'$\\chi=0.001$')\n",
    "\n",
    "ax1.plot(Xcl,diffCl[:,0],color='black',ls='--')\n",
    "ax1.set(xlabel=r'$\\xi$')\n",
    "ax1.set(ylabel=r'$dP_\\mathrm{cl}/d\\xi $ (Norm.)')\n",
    "ax1.set_yscale('log')\n",
    "ax1.set_xlim(xmin=0.001,xmax=0.01)\n",
    "ax1.set_ylim(ymin=1e-6,ymax=1e-2)\n",
    "ax1.minorticks_on()\n",
    "\n",
    "ax2.plot(Xcl,diffCl[:,1],color='black',ls='--')\n",
    "ax2.set(xlabel=r'$\\xi$')\n",
    "ax2.set(ylabel=r'$dW_\\mathrm{cl}/d\\xi $ (Norm.)')\n",
    "ax2.set_yscale('log')\n",
    "ax2.set_xlim(xmin=0.001,xmax=0.01)\n",
    "ax2.set_ylim(ymin=1e-4,ymax=1e1)\n",
    "fig.set_size_inches(3.4*2,3.4/1.618)\n",
    "fig.tight_layout()\n",
    "plt.show()"
   ]
  },
  {
   "cell_type": "code",
   "execution_count": 10,
   "metadata": {},
   "outputs": [
    {
     "name": "stderr",
     "output_type": "stream",
     "text": [
      "<ipython-input-10-4a275972304e>:3: IntegrationWarning: The integral is probably divergent, or slowly convergent.\n",
      "  return integrate.quad(lambda ss: special.kv(5/3, ss), ss, np.inf)[0]\n",
      "<ipython-input-10-4a275972304e>:11: IntegrationWarning: The algorithm does not converge.  Roundoff error is detected\n",
      "  in the extrapolation table.  It is assumed that the requested tolerance\n",
      "  cannot be achieved, and that the returned result (if full_output = 1) is \n",
      "  the best which can be obtained.\n",
      "  totalCl[jj,1] = integrate.quad(lambda Xi: intBessel53(Xi,Xe), 0, np.inf)[0]\n",
      "<ipython-input-10-4a275972304e>:3: IntegrationWarning: The algorithm does not converge.  Roundoff error is detected\n",
      "  in the extrapolation table.  It is assumed that the requested tolerance\n",
      "  cannot be achieved, and that the returned result (if full_output = 1) is \n",
      "  the best which can be obtained.\n",
      "  return integrate.quad(lambda ss: special.kv(5/3, ss), ss, np.inf)[0]\n",
      "<ipython-input-10-4a275972304e>:11: IntegrationWarning: The maximum number of subdivisions (50) has been achieved.\n",
      "  If increasing the limit yields no improvement it is advised to analyze \n",
      "  the integrand in order to determine the difficulties.  If the position of a \n",
      "  local difficulty can be determined (singularity, discontinuity) one will \n",
      "  probably gain from splitting up the interval and calling the integrator \n",
      "  on the subranges.  Perhaps a special-purpose integrator should be used.\n",
      "  totalCl[jj,1] = integrate.quad(lambda Xi: intBessel53(Xi,Xe), 0, np.inf)[0]\n"
     ]
    }
   ],
   "source": [
    "def intBessel53(Xi,Xe):\n",
    "    ss = (2/3)*Xi/Xe\n",
    "    return integrate.quad(lambda ss: special.kv(5/3, ss), ss, np.inf)[0]            \n",
    "\n",
    "X = np.linspace(0.001,1000,200)\n",
    "totalCl = np.zeros([200,2])\n",
    "for jj in range(1,200,1): # Xe\n",
    "    Xe = np.exp(we0*(jj-1))*0.001\n",
    "    X[jj] = Xe\n",
    "    totalCl[jj,0] = integrate.quad(lambda Xi: Xi*intBessel53(Xi,Xe), 0, np.inf)[0]\n",
    "    totalCl[jj,1] = integrate.quad(lambda Xi: intBessel53(Xi,Xe), 0, np.inf)[0]"
   ]
  },
  {
   "cell_type": "code",
   "execution_count": 11,
   "metadata": {},
   "outputs": [
    {
     "name": "stderr",
     "output_type": "stream",
     "text": [
      "<ipython-input-11-5835c509f252>:22: UserWarning: This figure includes Axes that are not compatible with tight_layout, so results might be incorrect.\n",
      "  fig.tight_layout()\n"
     ]
    },
    {
     "data": {
      "image/png": "[encoded data removed]",
      "text/plain": [
       "<Figure size 489.6x151.298 with 2 Axes>"
      ]
     },
     "metadata": {
      "needs_background": "light"
     },
     "output_type": "display_data"
    }
   ],
   "source": [
    "fig, axs = plt.subplots(1,2,\n",
    "                       gridspec_kw={'wspace':0.5})\n",
    "\n",
    "(ax1, ax2) = axs\n",
    "\n",
    "ax1.plot(X,totalCl[:,0],color='black',ls='--')\n",
    "ax1.set(xlabel=r'$\\chi$')\n",
    "ax1.set(ylabel=r'$P_\\mathrm{cl}$ (Norm.)')\n",
    "ax1.set_yscale('log')\n",
    "ax1.set_xscale('log')\n",
    "ax1.set_xlim(xmin=1e-3,xmax=1e1)\n",
    "ax1.minorticks_on()\n",
    "\n",
    "ax2.plot(X,totalCl[:,1],color='black',ls='--')\n",
    "ax2.set(xlabel=r'$\\chi$')\n",
    "ax2.set(ylabel=r'$W_\\mathrm{cl}$ (Norm.)')\n",
    "ax2.set_yscale('log')\n",
    "ax2.set_xscale('log')\n",
    "ax2.set_xlim(xmin=1e-3,xmax=1e1)\n",
    "ax2.minorticks_on()\n",
    "fig.set_size_inches(3.4*2,3.4/1.618)\n",
    "fig.tight_layout()\n",
    "plt.show()"
   ]
  },
  {
   "cell_type": "markdown",
   "metadata": {},
   "source": [
    "In principle $g(\\chi)=P_\\mathrm{QED}/P_\\mathrm{cl}$. In (Erber 1966; Sokolov and Ternov 1968; Blackburn 2020), it is\n",
    "\n",
    "$$g(\\chi)=\\frac{9\\sqrt{3}}{8\\pi} \\int_0^\\infty \\left[ \\frac{2u^2K_{5/3}(u)}{(2+3\\chi u)^2} + \\frac{36\\chi^2u^3K_{2/3}(u)}{(2+3\\chi u)^4} \\right] du$$\n",
    "\n",
    "The assymtopic expression is\n",
    "$$ g(\\chi_e\\ll 1)\\approx1-\\frac{55}{16}\\sqrt(3)\\chi + 48\\chi^2 $$\n",
    "$$ g(\\chi_e\\gg 1)\\approx\\frac{48}{243}\\Gamma(\\frac{2}{3})\\chi^{-4/3} \\times \\left[ 1 -\\frac{81}{16\\Gamma(2/3)}(3\\chi)^{-2/3} \\right] $$\n",
    "\n",
    "The analytic approximation to $g(\\chi)$ is\n",
    "$$g(\\chi)= \\left[ 1 + 4.8(1+\\chi)\\ln(1+1.7\\chi) +2.44\\chi^2)^{-2/3} \\right]$$\n",
    "\n",
    "The coef is $\\frac{9\\sqrt{3}}{8\\pi}$"
   ]
  },
  {
   "cell_type": "code",
   "execution_count": 12,
   "metadata": {},
   "outputs": [],
   "source": [
    "def assymp1(x):\n",
    "    return 1-(55/16)*np.sqrt(3)*x + 48*x**2\n",
    "\n",
    "def assymp2(x):\n",
    "    return (48/243)*1.354*2.08*x**(-4/3)*(1-(81/16)*0.73855*(3*x)**(-2/3))\n",
    "\n",
    "def assymp3(x):\n",
    "    return ( 1 + 4.8*(1+x)*np.log(1+1.7*x) +2.44*x**2)**(-2/3)"
   ]
  },
  {
   "cell_type": "code",
   "execution_count": 13,
   "metadata": {},
   "outputs": [],
   "source": [
    "def dg(u,Xe):\n",
    "    ff = 2*u**2* special.kv(5/3, u)/(2+3*Xe*u)**2 \n",
    "    hh = 36*Xe**2*u**3*special.kv(2/3, u)/(2+3*Xe*u)**4 \n",
    "    return ff+hh\n",
    "\n",
    "coef = 9*np.sqrt(3)/(8*const.pi)\n",
    "EmaxV= 1000.0\n",
    "we0 =(np.log(EmaxV)-np.log(0.001))/199.0 \n",
    "totalG = np.zeros(200)\n",
    "for jj in range(1,200,1): # Xe\n",
    "    Xe = np.exp(we0*(jj-1))*0.001\n",
    "    totalG[jj] = integrate.quad(dg,0,np.inf,args=(Xe,))[0]*coef"
   ]
  },
  {
   "cell_type": "code",
   "execution_count": 14,
   "metadata": {},
   "outputs": [
    {
     "name": "stderr",
     "output_type": "stream",
     "text": [
      "<ipython-input-14-9b30c018f62a>:25: UserWarning: This figure includes Axes that are not compatible with tight_layout, so results might be incorrect.\n",
      "  fig.tight_layout()\n"
     ]
    },
    {
     "data": {
      "image/png": "[encoded data removed]",
      "text/plain": [
       "<Figure size 432x288 with 1 Axes>"
      ]
     },
     "metadata": {
      "needs_background": "light"
     },
     "output_type": "display_data"
    }
   ],
   "source": [
    "plt.scatter(X[::8],totalG[::8],marker='^',color='magenta',\n",
    "        label=r'$g(\\chi)$ Sokolov and Ternov 1968')\n",
    "\n",
    "plt.scatter(X[1::8],totalQED[1::8,0]/totalCl[1::8,0],label=r'$P_\\mathrm{QED}/P_\\mathrm{cl}$',marker='+')\n",
    "\n",
    "plt.plot(X,assymp1(X), label=r'$\\chi_e\\ll 1$')\n",
    "\n",
    "plt.plot(X,assymp3(X), label='Analytic approx.',color='black')\n",
    "\n",
    "plt.plot(X,assymp2(X), label=r'$\\chi_e\\gg 1$')\n",
    "\n",
    "\n",
    "plt.yscale('log')\n",
    "plt.xscale('log')\n",
    "plt.xlim(xmin=0.001,xmax=1000)\n",
    "plt.ylim(ymin=1e-5,ymax=5.0e0)\n",
    "\n",
    "plt.xlabel(r'$\\chi$')\n",
    "plt.ylabel(r'$g(\\chi)$')\n",
    "plt.legend(loc='best')\n",
    "plt.minorticks_on()\n",
    "plt.legend(loc='best')\n",
    "\n",
    "fig.set_size_inches(3.4*2,3.4/1.618)\n",
    "fig.tight_layout()\n",
    "plt.show()"
   ]
  },
  {
   "cell_type": "markdown",
   "metadata": {},
   "source": [
    "$$\\frac{P_\\mathrm{QED}}{P_\\mathrm{cl}} = \\frac{9\\sqrt{3}}{8\\pi} \\int_0^\\infty \\left[ \\frac{2u^2K_{5/3}(u)}{(2+3\\chi u)^2} + \\frac{36\\chi^2u^3K_{2/3}(u)}{(2+3\\chi u)^4} \\right] du$$\n"
   ]
  },
  {
   "cell_type": "code",
   "execution_count": 15,
   "metadata": {},
   "outputs": [],
   "source": [
    "diff = np.zeros([3000,8])\n",
    "Xi = np.zeros(3000)\n",
    "for ii in range(1,3000,1):\n",
    "    X = (ii-0.5)/3000\n",
    "    Xi[ii] = X\n",
    "    diff[ii,0] = dPQED(X,1.0e-2)[0]       # test at Xe=1.0e-3\n",
    "    diff[ii,1] = dPcl(X,1.0e-2)[0]       \n",
    "    diff[ii,2] = dPQED(X,1)[0]            # test at Xe=1.0\n",
    "    diff[ii,3] = dPcl(X,1)[0]      \n",
    "    diff[ii,4] = dPQED(X,10)[0]           # test at Xe=10\n",
    "    diff[ii,5] = dPcl(X,10)[0]       \n",
    "    diff[ii,6] = dPQED(X,100)[0]          # test at Xe=100\n",
    "    diff[ii,7] = dPcl(X,100)[0]      "
   ]
  },
  {
   "cell_type": "code",
   "execution_count": 16,
   "metadata": {},
   "outputs": [
    {
     "name": "stderr",
     "output_type": "stream",
     "text": [
      "<ipython-input-16-6936b20dc204>:41: UserWarning: This figure includes Axes that are not compatible with tight_layout, so results might be incorrect.\n",
      "  fig.tight_layout()\n"
     ]
    },
    {
     "data": {
      "image/png": "[encoded data removed]",
      "text/plain": [
       "<Figure size 734.4x122.4 with 4 Axes>"
      ]
     },
     "metadata": {
      "needs_background": "light"
     },
     "output_type": "display_data"
    }
   ],
   "source": [
    "fig, axs = plt.subplots(1,4,sharex=True,\n",
    "                       gridspec_kw={'wspace':0.3})\n",
    "\n",
    "(ax1, ax2, ax3, ax4) = axs\n",
    "\n",
    "ax1.plot(Xi[1:],diff[1:,0],color='black')\n",
    "ax1.plot(Xi[1:],diff[1:,1],color='black',ls='--')\n",
    "ax1.set(ylim=(1e-12,diff[1:,1].max()*1.1),\n",
    "        ylabel=r'$dP/d\\xi $ (Norm.)',\n",
    "        title =r'$\\chi=0.01$',\n",
    "       )\n",
    "\n",
    "ax2.plot(Xi[1:],diff[1:,2],color='black')\n",
    "ax2.plot(Xi[1:],diff[1:,3],color='black',ls='--')\n",
    "ax2.set(ylim=(1e-8,diff[1:,3].max()*1.1),\n",
    "        title =r'$\\chi=1$',\n",
    "       )\n",
    "\n",
    "ax3.plot(Xi[1:],diff[1:,4],color='black')\n",
    "ax3.plot(Xi[1:],diff[1:,5],color='black',ls='--')\n",
    "ax3.set(ylim=(1e-8,diff[1:,5].max()*1.1),\n",
    "        title =r'$\\chi=10$',\n",
    "       )\n",
    "\n",
    "ax4.plot(Xi[1:],diff[1:,6],color='black',label='QED')\n",
    "ax4.plot(Xi[1:],diff[1:,7],color='black',ls='--',label='Classical')\n",
    "ax4.set(ylim=(1e-2,diff[1:,7].max()*1.1),\n",
    "        title =r'$\\chi=100$',\n",
    "       )\n",
    "ax4.legend(loc='upper left')\n",
    "\n",
    "for ax in axs.flat:\n",
    "    ax.set(xlim=(1e-3,1e0),\n",
    "           xlabel=r'$\\xi$',\n",
    "           xscale='log',\n",
    "           #yscale='log',\n",
    "          )\n",
    "    ax.minorticks_on()\n",
    "\n",
    "fig.set_size_inches(3.4*3,3.4/2)\n",
    "fig.tight_layout()\n",
    "plt.show()"
   ]
  },
  {
   "cell_type": "code",
   "execution_count": 17,
   "metadata": {},
   "outputs": [],
   "source": [
    "#EmaxV= 1000.0\n",
    "#we0 =(np.log(EmaxV)-np.log(0.001))/199.0\n",
    "#totalR = np.zeros([200])\n",
    "#totalS = np.zeros([200])\n",
    "#totalC = np.zeros([200])\n",
    "#totalT = np.zeros([200])\n",
    "#diffQ = np.zeros([3000+2,200])\n",
    "#diffR = np.zeros([3000+2,200])\n",
    "#diffC = np.zeros([3000+2,200])\n",
    "#diffD = np.zeros([3000+2,200])\n",
    "\n",
    "#for jj in range(1,200,1): # Xe\n",
    "#    Xe = np.exp(we0*(float(jj)-1))*0.001\n",
    "#    for ii in range(1,3000,1):\n",
    "#        Xi = (float(ii)-0.5)/3000\n",
    "#        diffQ[ii,jj] = dPQED(Xi,Xe)[0]\n",
    "#        diffR[ii,jj] = dPQED(Xi,Xe)[1]\n",
    "#        diffC[ii,jj] = dPcl(Xi,Xe)[0]\n",
    "#        diffD[ii,jj] = dPcl(Xi,Xe)[1]\n",
    "#    totalR[jj] = integrate.quad(lambda x: dPQED(x,Xe)[0], 0, 1)[0] \n",
    "#    totalS[jj] = integrate.quad(lambda x: dPQED(x,Xe)[1], 0, 1)[0]\n",
    "#    totalC[jj] = integrate.quad(lambda Xi: Xi*intBessel53(Xi,Xe), 0, np.inf)[0]\n",
    "#    totalT[jj] = integrate.quad(lambda Xi: intBessel53(Xi,Xe), 0, np.inf)[0] "
   ]
  },
  {
   "cell_type": "markdown",
   "metadata": {},
   "source": [
    "# Pair production"
   ]
  },
  {
   "cell_type": "markdown",
   "metadata": {},
   "source": [
    "$$dW_\\mathrm{p} = \\frac{\\alpha mc^2}{\\sqrt{3}\\pi\\hbar}\\left(\\frac{mc^2}{\\epsilon_h} \\right) \\left[ \\left(\\frac{\\eta_+}{\\eta_-} + \\frac{\\eta_-}{\\eta_+} \\right)K_{2/3}(\\delta) + \\int_\\delta^\\infty K_{1/3}(s)ds  \\right] d\\eta_-$$\n",
    "$$dW_\\mathrm{p}=\\frac{\\alpha mc^2}{\\sqrt{3}\\pi\\hbar} \\left(\\frac{mc^2}{\\epsilon_h} \\right) \\left[ \\left(\\frac{\\eta_+}{\\eta_-} + \\frac{\\eta_-}{\\eta_+} \\right)K_{2/3}(\\delta) + \\int_\\delta^\\infty K_{1/3}(s)ds  \\right] d\\eta_-$$\n",
    "\n",
    "$$dW_\\mathrm{p}=\\frac{\\alpha mc^2}{\\sqrt{3}\\pi\\hbar} \\left(\\frac{mc^2}{\\epsilon_h} \\right) f_p(\\eta_-,\\chi) d\\eta_-$$\n",
    "\n",
    "$$\\delta=\\frac{2}{3\\eta_-\\eta_+\\chi};\\,\\eta_-=\\frac{\\epsilon_e}{\\epsilon_h};\\,\\eta_+=1-\\eta_- $$\n",
    "\n",
    "$$ f_p(\\eta_-,\\chi) = \\left[ \\left(\\frac{\\eta_+}{\\eta_-} + \\frac{\\eta_-}{\\eta_+} \\right)K_{2/3}(\\delta) + \\int_\\delta^\\infty K_{1/3}(s)ds  \\right] $$"
   ]
  },
  {
   "cell_type": "code",
   "execution_count": 18,
   "metadata": {},
   "outputs": [],
   "source": [
    "def intBessel13(ss):\n",
    "    return integrate.quad(lambda ss: special.kv(1/3, ss), ss, np.inf)[0]\n",
    "\n",
    "def dWpair(Xi,Xe):\n",
    "    ss = (2/3)/(Xi*(1-Xi)*Xe)\n",
    "    ff = special.kv(2/3, ss)\n",
    "    hh = intBessel13(ss)\n",
    "    dcpr = ( ( (1-Xi)/Xi + Xi/(1-Xi)  )*ff - hh )     # dWpair(Xi,Xe)=f_p(\\eta,\\chi); Xi = \\eta_-, Xe = \\chi\n",
    "    return dcpr"
   ]
  },
  {
   "cell_type": "code",
   "execution_count": 19,
   "metadata": {},
   "outputs": [],
   "source": [
    "diffW = np.zeros(3000)\n",
    "Xipair = np.zeros(3000)\n",
    "for ii in range(1,3000,1):\n",
    "    Xi = (ii-0.5)/3000\n",
    "    Xipair[ii] = Xi\n",
    "    diffW[ii] = dWpair(Xi,0.5)           # differential at \\chi = 0.5"
   ]
  },
  {
   "cell_type": "code",
   "execution_count": 20,
   "metadata": {},
   "outputs": [
    {
     "data": {
      "image/png": "[encoded data removed]",
      "text/plain": [
       "<Figure size 244.8x151.298 with 1 Axes>"
      ]
     },
     "metadata": {
      "needs_background": "light"
     },
     "output_type": "display_data"
    }
   ],
   "source": [
    "fig, ax1 = plt.subplots()\n",
    "\n",
    "ax1.plot(Xipair[1:],diffW[1:],color='black',ls='--')\n",
    "fig.suptitle(r'$\\chi=0.5$')\n",
    "ax1.set(xlabel=r'$\\eta_-$')\n",
    "ax1.set(ylabel=r'$dW_\\mathrm{p}/d\\eta_- $ (Norm.)')\n",
    "ax1.set_yscale('log')\n",
    "ax1.set_xlim(xmin=0,xmax=1)\n",
    "ax1.set_ylim(ymin=1e-50)\n",
    "ax1.minorticks_on()\n",
    "\n",
    "fig.set_size_inches(3.4,3.4/1.618)"
   ]
  },
  {
   "cell_type": "code",
   "execution_count": 21,
   "metadata": {},
   "outputs": [],
   "source": [
    "EmaxV= 1000.0\n",
    "wp0 =(np.log(EmaxV)-np.log(0.001))/199.0\n",
    "totalPair = np.zeros(200)\n",
    "XePair = np.zeros(200)\n",
    "for jj in range(1,200,1): # Xe\n",
    "    Xe = np.exp(wp0*(jj-1))*0.001\n",
    "    XePair[jj] = Xe\n",
    "    totalPair[jj] = integrate.quad(lambda x: dWpair(x,Xe), 0, 1)[0] # integrate \\eta"
   ]
  },
  {
   "cell_type": "code",
   "execution_count": 22,
   "metadata": {},
   "outputs": [
    {
     "data": {
      "image/png": "[encoded data removed]",
      "text/plain": [
       "<Figure size 244.8x139.728 with 1 Axes>"
      ]
     },
     "metadata": {
      "needs_background": "light"
     },
     "output_type": "display_data"
    }
   ],
   "source": [
    "fig, ax1 = plt.subplots()\n",
    "\n",
    "ax1.scatter(XePair[::5],totalPair[::5],color='red',marker='+')\n",
    "ax1.plot(XePair,0.38*XePair**(2/3)*5.44,color='blue',label=r'$0.38\\chi^{2/3}$') # 5.44 = sqrt(3)*π\n",
    "ax1.set(xlabel=r'$\\chi$')\n",
    "ax1.set(ylabel=r'$W_\\mathrm{pair}$ (Norm.)')\n",
    "ax1.set_yscale('log')\n",
    "ax1.set_xscale('log')\n",
    "ax1.set_xlim(xmin=1e-3,xmax=1e3)\n",
    "ax1.set_ylim(ymin=1e-6,ymax=1e4)\n",
    "ax1.legend(loc='best')\n",
    "ax1.minorticks_on()\n",
    "\n",
    "fig.set_size_inches(3.4,3.14/1.618)"
   ]
  },
  {
   "cell_type": "code",
   "execution_count": null,
   "metadata": {},
   "outputs": [],
   "source": []
  }
 ],
 "metadata": {
  "kernelspec": {
   "display_name": "Python 3",
   "language": "python",
   "name": "python3"
  },
  "language_info": {
   "codemirror_mode": {
    "name": "ipython",
    "version": 3
   },
   "file_extension": ".py",
   "mimetype": "text/x-python",
   "name": "python",
   "nbconvert_exporter": "python",
   "pygments_lexer": "ipython3",
   "version": "3.8.8"
  }
 },
 "nbformat": 4,
 "nbformat_minor": 4
}
